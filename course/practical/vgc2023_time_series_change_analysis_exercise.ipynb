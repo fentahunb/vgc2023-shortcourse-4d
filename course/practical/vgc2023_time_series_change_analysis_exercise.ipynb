{
 "cells": [
  {
   "attachments": {},
   "cell_type": "markdown",
   "metadata": {},
   "source": [
    "# 4D change analysis of near-continuous LiDAR time series for applications in geomorphic monitoring\n",
    "\n",
    "## Time series-based change analysis of surface dynamics at a sandy beach\n",
    "\n",
    "In this practical, you will perform time series-based surface change analysis on a time series of permanent TLS point clouds of the sandy beach at Kijkduin for a timespan of around 6 months (<a href=\"#references\">Vos et al., 2022</a>). \n",
    "\n",
    "The objective is to assess surface dynamics with three methods: time series clustering (following <a href=\"#references\">Kuschnerus et al., 2021</a>), Principal Component Analysis (PCA; following Frantzen et al., 2023), and 4D objects-by-change (following <a href=\"#references\">Anders et al., 2021</a>). Look into the related articles for comparison of possible surface dynamics of the use case and help for deciding on suitable parameters, etc. And then you might find interesting new results for other datasets and settings!\n",
    "\n",
    "## Software and data\n",
    "This exercise should be solved using Python with the [`py4dgeo`](https://github.com/3dgeo-heidelberg/py4dgeo) library. The workflow will be introduced throughout this practical. Also, make use of the software documentations!\n",
    "\n",
    "Use [CloudCompare](../../../software/software_cloudcompare.md) or GIS Software (e.g., [QGIS](../../../software/software_qgis.md)) to check the data and visualize your results.\n",
    "\n",
    "The dataset is a subsampled version of the original time series, using 12-hourly epochs of point clouds and spatial subsampling to 50 cm. In the data directory `kijkduin`, you find the prepared input point clouds and a core points point cloud, which is manually cleaned from noise."
   ]
  },
  {
   "attachments": {},
   "cell_type": "markdown",
   "metadata": {},
   "source": [
    "## Loading data and calculation of surface changes\n",
    "\n",
    "Prepare the analysis by compiling the list of files (epochs) and read the timestamps from the file names (format `YYMMDD_hhmmss`) into `datetime` objects. Use the point cloud files and timestamps to create a py4dgeo `SpatiotemporalAnalysis` object. For this you need to instantiate the M3C2 algorithm. You can use the point cloud file `170115_150816_aoi_50cm.laz` as core points. Explore the point cloud properties in CloudCompare: \n",
    "\n",
    "* Considering the available point density and surface characteristics, what would be a suitable cylinder radius for the distance calculation?\n",
    "* What would be a suitable approach to derive the surface normals in this topography and expected types of surface changes?\n",
    "\n",
    "Hint: In this flat topography and predominant provess of sand deposition and erosion, it can be suitable to orient the normals purely vertically. In this case, they do not need to be computed, and you can [customize the py4dgeo algorithm](https://py4dgeo.readthedocs.io/en/latest/customization.html#Changing-search-directions) accordingly.\n",
    "\n",
    "Use the first point cloud in the time series (list of files) as reference epoch. You can assume a registration error of 1.9 cm for the M3C2 distance calculation (cf. <a href=\"#references\">Vos et al., 2022</a>).\n",
    "\n",
    "Explore the spatiotemporal change information by visualizing the changes at a selected epoch, and visualizing the time series at a selected location. "
   ]
  },
  {
   "attachments": {},
   "cell_type": "markdown",
   "metadata": {},
   "source": [
    "First, we start by setting up the Python environment and data.\n",
    "\n",
    "<span style=\"color:red\">Specify the path to the input data directory (e.g. 'kijkduin') on your computer:</span>"
   ]
  },
  {
   "cell_type": "code",
   "execution_count": 1,
   "metadata": {
    "ExecuteTime": {
     "end_time": "2023-09-19T10:31:05.723693Z",
     "start_time": "2023-09-19T10:30:56.551943700Z"
    }
   },
   "outputs": [
    {
     "name": "stdout",
     "output_type": "stream",
     "text": [
      "ERROR: path-to-data does not exist\n",
      "Please specify the correct path to the data directory by replacing <path-to-data> above.\n"
     ]
    },
    {
     "ename": "FileNotFoundError",
     "evalue": "[WinError 3] Das System kann den angegebenen Pfad nicht finden: 'path-to-data\\\\pointclouds'",
     "output_type": "error",
     "traceback": [
      "\u001B[1;31m---------------------------------------------------------------------------\u001B[0m",
      "\u001B[1;31mFileNotFoundError\u001B[0m                         Traceback (most recent call last)",
      "Cell \u001B[1;32mIn[1], line 19\u001B[0m\n\u001B[0;32m     16\u001B[0m pc_dir \u001B[38;5;241m=\u001B[39m os\u001B[38;5;241m.\u001B[39mpath\u001B[38;5;241m.\u001B[39mjoin(data_path, \u001B[38;5;124m'\u001B[39m\u001B[38;5;124mpointclouds\u001B[39m\u001B[38;5;124m'\u001B[39m)\n\u001B[0;32m     18\u001B[0m \u001B[38;5;66;03m# list of point clouds (time series)\u001B[39;00m\n\u001B[1;32m---> 19\u001B[0m pc_list \u001B[38;5;241m=\u001B[39m \u001B[43mos\u001B[49m\u001B[38;5;241;43m.\u001B[39;49m\u001B[43mlistdir\u001B[49m\u001B[43m(\u001B[49m\u001B[43mpc_dir\u001B[49m\u001B[43m)\u001B[49m\n\u001B[0;32m     20\u001B[0m pc_list[:\u001B[38;5;241m5\u001B[39m] \u001B[38;5;66;03m# print the first elements\u001B[39;00m\n",
      "\u001B[1;31mFileNotFoundError\u001B[0m: [WinError 3] Das System kann den angegebenen Pfad nicht finden: 'path-to-data\\\\pointclouds'"
     ]
    }
   ],
   "source": [
    "# import required modules\n",
    "import os\n",
    "import numpy as np\n",
    "import py4dgeo\n",
    "from datetime import datetime\n",
    "\n",
    "# specify the data path\n",
    "data_path = 'path-to-data'\n",
    "\n",
    "# check if the specified path exists\n",
    "if not os.path.isdir(data_path):\n",
    "    print(f'ERROR: {data_path} does not exist')\n",
    "    print('Please specify the correct path to the data directory by replacing <path-to-data> above.')\n",
    "\n",
    "# sub-directory containing the point clouds\n",
    "pc_dir = os.path.join(data_path, 'pointclouds')\n",
    "\n",
    "# list of point clouds (time series)\n",
    "pc_list = os.listdir(pc_dir)\n",
    "pc_list[:5] # print the first elements"
   ]
  },
  {
   "cell_type": "code",
   "execution_count": 8,
   "outputs": [],
   "source": [
    "?py4dgeo.SpatiotemporalAnalysis"
   ],
   "metadata": {
    "collapsed": false,
    "ExecuteTime": {
     "end_time": "2023-09-19T10:32:39.755939300Z",
     "start_time": "2023-09-19T10:32:39.746178500Z"
    }
   }
  },
  {
   "attachments": {},
   "cell_type": "markdown",
   "metadata": {},
   "source": [
    "<span style=\"color:blue\">In the list of point cloud files you can see that we have one laz file per epoch available. The file name contains the timestamp of the epoch, respectively, in format `YYMMDD_hhmmss`. To use this information for our analysis, we read the timestamp information from the file names into `datetime` objects.</span> "
   ]
  },
  {
   "cell_type": "code",
   "execution_count": null,
   "metadata": {},
   "outputs": [],
   "source": [
    "# read the timestamps from file names\n",
    "timestamps = []\n",
    "for f in pc_list:\n",
    "    if not f.endswith('.laz'):\n",
    "        continue\n",
    "\n",
    "    # get the timestamp from the file name\n",
    "    timestamp_str = '_'.join(f.split('.')[0].split('_')[1:]) # yields YYMMDD_hhmmss\n",
    "\n",
    "    # convert string to datetime object\n",
    "    timestamp = datetime.strptime(timestamp_str, '%y%m%d_%H%M%S')\n",
    "    timestamps.append(timestamp)\n",
    "\n",
    "timestamps[:5]"
   ]
  },
  {
   "attachments": {},
   "cell_type": "markdown",
   "metadata": {},
   "source": [
    "<span style=\"color:blue\">Now we use the point cloud files and timestamp information to create a `SpatiotemporalAnalysis` object</span> "
   ]
  },
  {
   "cell_type": "code",
   "execution_count": null,
   "metadata": {},
   "outputs": [],
   "source": [
    "analysis = py4dgeo.SpatiotemporalAnalysis(f'{data_path}/kijkduin.zip', force=True)"
   ]
  },
  {
   "attachments": {},
   "cell_type": "markdown",
   "metadata": {},
   "source": [
    "<span style=\"color:blue\">As reference epoch, we use the first epoch in our time series:</span> "
   ]
  },
  {
   "cell_type": "code",
   "execution_count": null,
   "metadata": {},
   "outputs": [],
   "source": [
    "# specify the reference epoch\n",
    "reference_epoch_file = os.path.join(pc_dir, pc_list[0])\n",
    "\n",
    "# read the reference epoch and set the timestamp\n",
    "reference_epoch = py4dgeo.read_from_las(reference_epoch_file)\n",
    "reference_epoch.timestamp = timestamps[0]\n",
    "\n",
    "# set the reference epoch in the spatiotemporal analysis object\n",
    "analysis.reference_epoch = reference_epoch"
   ]
  },
  {
   "attachments": {},
   "cell_type": "markdown",
   "metadata": {},
   "source": [
    "<span style=\"color:blue\">For epochs to be added, we now configure the M3C2 algorithm to derive the change values. We would like to set the normals purely vertically, so we define a customized computation of cylinder `directions`:</span> "
   ]
  },
  {
   "cell_type": "code",
   "execution_count": null,
   "metadata": {},
   "outputs": [],
   "source": [
    "# Inherit from the M3C2 algorithm class to define a custom direction algorithm\n",
    "class M3C2_Vertical(py4dgeo.M3C2):\n",
    "    def directions(self):\n",
    "        return np.array([0, 0, 1]) # vertical vector orientation\n",
    "\n",
    "# specify corepoints, here all points of the reference epoch\n",
    "analysis.corepoints = reference_epoch.cloud[::]\n",
    "\n",
    "# specify M3C2 parameters for our custom algorithm class\n",
    "analysis.m3c2 = M3C2_Vertical(cyl_radii=(1.0,), max_distance=10.0, registration_error = 0.019)"
   ]
  },
  {
   "attachments": {},
   "cell_type": "markdown",
   "metadata": {},
   "source": [
    "<span style=\"color:blue\">Now we add all the other epochs with their timestamps:</span> "
   ]
  },
  {
   "cell_type": "code",
   "execution_count": null,
   "metadata": {},
   "outputs": [],
   "source": [
    "# create a list to collect epoch objects\n",
    "epochs = []\n",
    "for e, pc_file in enumerate(pc_list[1:]):\n",
    "    epoch_file = os.path.join(pc_dir, pc_file)\n",
    "    epoch = py4dgeo.read_from_las(epoch_file)\n",
    "    epoch.timestamp = timestamps[e]\n",
    "    epochs.append(epoch)\n",
    "\n",
    "# add epoch objects to the spatiotemporal analysis object\n",
    "analysis.add_epochs(*epochs)\n",
    "\n",
    "# print the spatiotemporal analysis data for 3 corepoints and 5 epochs, respectively\n",
    "print(f\"Space-time distance array:\\n{analysis.distances[:3,:5]}\")\n",
    "print(f\"Uncertainties of M3C2 distance calculation:\\n{analysis.uncertainties['lodetection'][:3, :5]}\")\n",
    "print(f\"Timestamp deltas of analysis:\\n{analysis.timedeltas[:5]}\")"
   ]
  },
  {
   "attachments": {},
   "cell_type": "markdown",
   "metadata": {},
   "source": [
    "<span style=\"color:blue\">We visualize the changes in the scene for a selected epoch, together with the time series of surface changes at a selected location.</span> \n",
    "\n",
    "<span style=\"color:red\">Specify a selected epoch id and a selected location by core point id (i.e., replace the `0` in the variables). A suitable location can be selected in the core points cloud in CloudCompare.</span>"
   ]
  },
  {
   "cell_type": "code",
   "execution_count": null,
   "metadata": {},
   "outputs": [],
   "source": [
    "cp_idx_sel = 0 # selected core point index (e.g. 15162)\n",
    "epoch_idx_sel = 0 # selected epoch index (e.g. 28)\n",
    "\n",
    "# import plotting module\n",
    "import matplotlib.pyplot as plt\n",
    "\n",
    "# allow interactive rotation in notebook\n",
    "%matplotlib inline\n",
    "\n",
    "# create the figure\n",
    "fig=plt.figure(figsize=(15,5))\n",
    "ax1=fig.add_subplot(1,2,1)\n",
    "ax2=fig.add_subplot(1,2,2)\n",
    "\n",
    "# get the corepoints\n",
    "corepoints = analysis.corepoints.cloud\n",
    "\n",
    "# get change values of last epoch for all corepoints\n",
    "distances = analysis.distances\n",
    "distances_epoch = [d[epoch_idx_sel] for d in distances] \n",
    "\n",
    "# get the time series of changes at a specific core point locations\n",
    "coord_sel = analysis.corepoints.cloud[cp_idx_sel]\n",
    "timeseries_sel = distances[cp_idx_sel]\n",
    "\n",
    "# get the list of timestamps from the reference epoch timestamp and timedeltas\n",
    "timestamps = [t + analysis.reference_epoch.timestamp for t in analysis.timedeltas]\n",
    "\n",
    "# plot the scene\n",
    "d = ax1.scatter(corepoints[:,0], corepoints[:,1], c=distances_epoch[:], cmap='seismic_r', vmin=-1.5, vmax=1.5, s=1, zorder=1) \n",
    "plt.colorbar(d, format=('%.2f'), label='Distance [m]', ax=ax1, pad=.15)\n",
    "\n",
    "# add the location of the selected coordinate\n",
    "ax1.scatter(coord_sel[0], coord_sel[1], facecolor='yellow', edgecolor='black', s=100, zorder=2, label='Selected location', marker='*')\n",
    "ax1.legend()\n",
    "\n",
    "# configure the plot layout\n",
    "ax1.set_xlabel('X [m]')\n",
    "ax1.set_ylabel('Y [m]')\n",
    "ax1.set_aspect('equal')\n",
    "ax1.set_title('Changes at %s' % (analysis.reference_epoch.timestamp+analysis.timedeltas[epoch_idx_sel]))\n",
    "\n",
    "# plot the time series\n",
    "ax2.scatter(timestamps, timeseries_sel, s=5, color='black', label='Raw')\n",
    "ax2.plot(timestamps, timeseries_sel, color='blue', label='Smoothed')\n",
    "ax2.set_xlabel('Date')\n",
    "\n",
    "# add the epoch of the plotted scene\n",
    "ax2.scatter(timestamps[epoch_idx_sel], timeseries_sel[epoch_idx_sel], facecolor='yellow', marker='*', edgecolor='black', s=100, color='red', label='Selected epoch')\n",
    "ax2.legend()\n",
    "\n",
    "# format the date labels\n",
    "import matplotlib.dates as mdates\n",
    "dtFmt = mdates.DateFormatter('%b-%d') \n",
    "plt.gca().xaxis.set_major_formatter(dtFmt) \n",
    "\n",
    "# configure the plot layout\n",
    "ax2.set_ylabel('Distance [m]')\n",
    "ax2.grid()\n",
    "ax2.set_ylim(-0.3,1.6)\n",
    "ax2.set_title('Time series at selected location')\n",
    "\n",
    "plt.tight_layout()\n",
    "plt.show()"
   ]
  },
  {
   "attachments": {},
   "cell_type": "markdown",
   "metadata": {},
   "source": [
    "## Temporal smoothing\n",
    "\n",
    "You are dealing with a temporal subset of the original hourly time series. The effect of temporal measurement variability may therefore be less pronounced (compared to the assessment in, e.g., [Anders et al., 2019](#references)). Nonetheless, you may apply temporal smoothing to reduce the influence of noise on your change analysis using a rolling median averaging of one week. This will also fill possible gaps in your data, e.g., lower ranges during poor atmospheric conditions or no data due to water coverage during tides on the lower beach part. \n",
    "\n",
    "Visualize the raw and smoothed change values in the time series of your selected location."
   ]
  },
  {
   "attachments": {},
   "cell_type": "markdown",
   "metadata": {},
   "source": [
    "<span style=\"color:blue\">We apply a rolling median with a defined temporal window of 14 epochs (corresponding to one week of 12-hourly point clouds) using the `temporal_averaging()` function in py4dgeo.</span> "
   ]
  },
  {
   "cell_type": "code",
   "execution_count": null,
   "metadata": {},
   "outputs": [],
   "source": [
    "analysis.smoothed_distances = py4dgeo.temporal_averaging(analysis.distances, smoothing_window=14)"
   ]
  },
  {
   "attachments": {},
   "cell_type": "markdown",
   "metadata": {},
   "source": [
    "<span style=\"color:blue\">Now we can compare the raw and smoothed time series at our selected location:</span> "
   ]
  },
  {
   "cell_type": "code",
   "execution_count": null,
   "metadata": {},
   "outputs": [],
   "source": [
    "# create the figure\n",
    "fig, ax = plt.subplots(1,1,figsize=(7,5))\n",
    "\n",
    "# plot the raw time series\n",
    "ax.scatter(timestamps, timeseries_sel, color='blue', label='raw', s=5)\n",
    "\n",
    "# plot the smoothed time series\n",
    "timeseries_sel_smooth = analysis.smoothed_distances[cp_idx_sel]\n",
    "ax.plot(timestamps, timeseries_sel_smooth, color='red', label='smooth')\n",
    "\n",
    "# format the date labels\n",
    "import matplotlib.dates as mdates\n",
    "dtFmt = mdates.DateFormatter('%b-%d') \n",
    "plt.gca().xaxis.set_major_formatter(dtFmt) \n",
    "\n",
    "# add plot elements\n",
    "ax.set_xlabel('Date')\n",
    "ax.set_ylabel('Distance [m]')\n",
    "ax.grid()\n",
    "ax.set_ylim(-.25,1.25)\n",
    "\n",
    "plt.tight_layout()\n",
    "plt.show()"
   ]
  },
  {
   "attachments": {},
   "cell_type": "markdown",
   "metadata": {},
   "source": [
    "## Time series clustering\n",
    "To derive characteristic change patterns on the sandy beach, perform k-means clustering of the time series following <a href=\"#references\">Kuschnerus et al. (2021)</a>. Assess the clustering for different selections of `k` numbers of clusters.\n",
    "\n",
    "* Can you interpret the characteristics of different parts on the beach? Visualize example time series for different clusters.\n",
    "* From which number of clusters do you see a clear separation in overall units of the beach area?\n",
    "* What are some detail change patterns that become visible for a higher number of clusters?\n"
   ]
  },
  {
   "attachments": {},
   "cell_type": "markdown",
   "metadata": {},
   "source": [
    "<span style=\"color:blue\">We perform k-means clustering for a set of `k`s at once and collect the resulting labels for subsequent assessment:</span> "
   ]
  },
  {
   "cell_type": "code",
   "execution_count": null,
   "metadata": {},
   "outputs": [],
   "source": [
    "# import kmeans clustering module from scikit-learn\n",
    "from sklearn.cluster import KMeans\n",
    "\n",
    "# use the smoothed distances for clustering\n",
    "\n",
    "\n",
    "# define the number of clusters\n",
    "\n",
    "\n",
    "# perform clustering\n",
    "\n"
   ]
  },
  {
   "attachments": {},
   "cell_type": "markdown",
   "metadata": {},
   "source": [
    "<span style=\"color:blue\">Now we can visualize the resulting change patterns:</span> "
   ]
  },
  {
   "cell_type": "code",
   "execution_count": null,
   "metadata": {},
   "outputs": [],
   "source": []
  },
  {
   "attachments": {},
   "cell_type": "markdown",
   "metadata": {},
   "source": [
    "<span style=\"color:blue\"><span style=\"color:blue\">We can look into the time series properties within selected clusters, to interpret the change pattern they are representing. For example, we can check the clusters by plotting the median values of all time series per cluster:</span> "
   ]
  },
  {
   "cell_type": "code",
   "execution_count": null,
   "metadata": {},
   "outputs": [],
   "source": []
  },
  {
   "cell_type": "markdown",
   "source": [
    "## Principal component analysis\n",
    "\n",
    "In the following, we will use principal component analysis (PCA; also referred to as empirical orthogonal functions) as a tool to summarize the change patterns within a spatiotemporal dataset. The method is based on [this master thesis](http://resolver.tudelft.nl/uuid:ce98c4e3-6ca1-4966-a5cf-2120f2fa44bf), to be published in [Frantzen et al. (2023)](#references). \n",
    "\n",
    "For this technique, the 4D data shall be represented as a two-dimensional array in which the rows correspond to different epochs, and the columns correspond to each individual [x, y] coordinate where a z or surface change value is represented. "
   ],
   "metadata": {
    "collapsed": false
   }
  },
  {
   "cell_type": "markdown",
   "source": [
    "Reshape the data from the `SpatiotemporalAnalysis` object so that all coordinates are represented in one axis, i.e. an array holding [time, space]:"
   ],
   "metadata": {
    "collapsed": false
   }
  },
  {
   "cell_type": "code",
   "execution_count": null,
   "outputs": [],
   "source": [
    "X = distances.transpose()"
   ],
   "metadata": {
    "collapsed": false
   }
  },
  {
   "cell_type": "markdown",
   "source": [
    "Find coordinates without nan values, and create a new array without nan values:"
   ],
   "metadata": {
    "collapsed": false
   }
  },
  {
   "cell_type": "code",
   "execution_count": null,
   "outputs": [],
   "source": [
    "idxs = np.argwhere(~np.isnan(X).any(axis=0)) # store the column indices where actual data is present\n",
    "X_no_nan = X[:,idxs.flatten()].reshape((X.shape[0],-1))"
   ],
   "metadata": {
    "collapsed": false
   }
  },
  {
   "cell_type": "markdown",
   "source": [
    "Compute the loading and scores of the prinicpal components in 'NaN-free' X:"
   ],
   "metadata": {
    "collapsed": false
   }
  },
  {
   "cell_type": "code",
   "execution_count": null,
   "outputs": [],
   "source": [],
   "metadata": {
    "collapsed": false
   }
  },
  {
   "cell_type": "markdown",
   "source": [
    "Plot the principal component loadings and scores along with their fraction of explained variance:"
   ],
   "metadata": {
    "collapsed": false
   }
  },
  {
   "cell_type": "code",
   "execution_count": null,
   "outputs": [],
   "source": [],
   "metadata": {
    "collapsed": false
   }
  },
  {
   "attachments": {},
   "cell_type": "markdown",
   "metadata": {},
   "source": [
    "## Extraction of 4D objects-by-change\n",
    "\n",
    "Now use the 4D objects-by-change (4D-OBC) method to identify individual surface activities in the beach scene. The objective is to extract temporary occurrences of accumulation or erosion, as occurs when a sand bar is formed during some timespan, or when sand is deposited by anthropogenic works. This type of surface activity is implemented with the original seed detection in py4dgeo, so you do not need to customize the algorithm. Decide for suitable parameters following <a href=\"#references\">Anders et al. (2021)</a> - but bear in mind that we are using a different temporal resolution, so you may need to adjust the temporal change detection.\n",
    "\n",
    "Perform the extraction for selected seed locations, e.g. considering interesting clusters of change patterns identified in the previous step. In principle, the spatiotemporal segmentation can also be applied to the full dataset (all time series at all core point locations are used as potential seed candidates), but long processing time needs to be expected."
   ]
  },
  {
   "attachments": {},
   "cell_type": "markdown",
   "metadata": {},
   "source": [
    "<span style=\"color:blue\">You may use a location to extract, e.g., sand bars as 4D object-by-change. The strength of the method is that the occurrences are identified individually, even though they have spatial overlap, as they can be separated in the time series information.</span> "
   ]
  },
  {
   "attachments": {},
   "cell_type": "markdown",
   "metadata": {},
   "source": [
    "<span style=\"color:blue\">We instantiate the `RegionGrowingAlgorithm` class using the parameters of [Anders et al, 2021](#references), and run the object extraction:</span> "
   ]
  },
  {
   "cell_type": "code",
   "execution_count": null,
   "metadata": {},
   "outputs": [],
   "source": [
    "# parametrize the 4D-OBC extraction\n",
    "\n",
    "# run the algorithm\n"
   ]
  },
  {
   "attachments": {},
   "cell_type": "markdown",
   "metadata": {},
   "source": [
    "<span style=\"color:blue\">We can first check the result by plotting the seeds in the time series:</span> "
   ]
  },
  {
   "cell_type": "code",
   "execution_count": null,
   "metadata": {},
   "outputs": [],
   "source": []
  },
  {
   "attachments": {},
   "cell_type": "markdown",
   "metadata": {},
   "source": [
    "<span style=\"color:blue\">Next, we use the result and look into the spatial properties of one object (i.e. plotting the map of changes, for example, at the highest magnitude or middle epoch of the object duration, together with the seed time series):</span> "
   ]
  },
  {
   "cell_type": "code",
   "execution_count": null,
   "metadata": {},
   "outputs": [],
   "source": []
  },
  {
   "attachments": {},
   "cell_type": "markdown",
   "metadata": {},
   "source": [
    "<a id='references'></a>\n",
    "# References\n",
    "\n",
    "* Anders, K., Lindenbergh, R. C., Vos, S. E., Mara, H., de Vries, S., & Höfle, B. (2019). High-Frequency 3D Geomorphic Observation Using Hourly Terrestrial Laser Scanning Data Of A Sandy Beach. ISPRS Ann. Photogramm. Remote Sens. Spatial Inf. Sci., IV-2/W5, pp. 317-324. doi: [10.5194/isprs-annals-IV-2-W5-317-2019](https://doi.org/10.5194/isprs-annals-IV-2-W5-317-2019).\n",
    "* Anders, K., Winiwarter, L., Mara, H., Lindenbergh, R., Vos, S. E., & Höfle, B. (2021). Fully automatic spatiotemporal segmentation of 3D LiDAR time series for the extraction of natural surface changes. ISPRS Journal of Photogrammetry and Remote Sensing, 173, pp. 297-308. doi: [10.1016/j.isprsjprs.2021.01.015](https://doi.org/10.1016/j.isprsjprs.2021.01.015).\n",
    "* Frantzen, P., Voordendag, A., Kuschnerus, M., Rutzinger, M.,  Wouters, B., Lindenbergh, R. (2023, in review). Identifying Paraglacial Geomorphic Process Dynamics Using A Principal Component Analysis Of Terrestrial Laser Scanning Time Series.\n",
    "* Kuschnerus, M., Lindenbergh, R., & Vos, S. (2021). Coastal change patterns from time series clustering of permanent laser scan data. Earth Surface Dynamics, 9 (1), pp. 89-103. doi: [10.5194/esurf-9-89-2021](https://doi.org/10.5194/esurf-9-89-2021).\n",
    "* Vos, S., Anders, K., Kuschnerus, M., Lindenberg, R., Höfle, B., Aarnikhof, S. & Vries, S. (2022). A high-resolution 4D terrestrial laser scan dataset of the Kijkduin beach-dune system, The Netherlands.  Scientific Data, 9:191. doi: [10.1038/s41597-022-01291-9](https://doi.org/10.1038/s41597-022-01291-9)."
   ]
  }
 ],
 "metadata": {
  "kernelspec": {
   "display_name": "Python 3 (ipykernel)",
   "language": "python",
   "name": "python3"
  },
  "language_info": {
   "codemirror_mode": {
    "name": "ipython",
    "version": 3
   },
   "file_extension": ".py",
   "mimetype": "text/x-python",
   "name": "python",
   "nbconvert_exporter": "python",
   "pygments_lexer": "ipython3",
   "version": "3.11.5"
  }
 },
 "nbformat": 4,
 "nbformat_minor": 4
}
